{
 "cells": [
  {
   "cell_type": "code",
   "execution_count": 2,
   "metadata": {},
   "outputs": [
    {
     "name": "stdout",
     "output_type": "stream",
     "text": [
      "Hello world\n",
      "hello pakistan good morning\n"
     ]
    }
   ],
   "source": [
    "print(\"Hello world\")\n",
    "print(\"hello pakistan good morning\")"
   ]
  },
  {
   "cell_type": "code",
   "execution_count": 2,
   "metadata": {},
   "outputs": [
    {
     "name": "stdout",
     "output_type": "stream",
     "text": [
      "pakistan zindabad\n"
     ]
    }
   ],
   "source": [
    "print(\"pakistan zindabad\")"
   ]
  },
  {
   "cell_type": "code",
   "execution_count": 4,
   "metadata": {},
   "outputs": [
    {
     "name": "stdout",
     "output_type": "stream",
     "text": [
      "\n",
      "PIAIC student card\n",
      "student Name :Muhammad Afzal\n",
      "Father's Name: Iqbal yousaf\n",
      "Age : 25\n",
      "Education : Bachlor\n",
      "\n"
     ]
    }
   ],
   "source": [
    "name : str = \"Muhammad Afzal\"\n",
    "fname : str = \"Iqbal yousaf\"\n",
    "age : int = 25\n",
    "education : str = \"Bachlor\" \n",
    "card : str = f\"\"\"\n",
    "PIAIC student card\n",
    "student Name :{name}\n",
    "Father's Name: {fname}\n",
    "Age : {age}\n",
    "Education : {education}\n",
    "\"\"\"\n",
    "print(card)"
   ]
  },
  {
   "cell_type": "code",
   "execution_count": null,
   "metadata": {},
   "outputs": [],
   "source": [
    "card"
   ]
  }
 ],
 "metadata": {
  "kernelspec": {
   "display_name": "base",
   "language": "python",
   "name": "python3"
  },
  "language_info": {
   "codemirror_mode": {
    "name": "ipython",
    "version": 3
   },
   "file_extension": ".py",
   "mimetype": "text/x-python",
   "name": "python",
   "nbconvert_exporter": "python",
   "pygments_lexer": "ipython3",
   "version": "3.12.0"
  }
 },
 "nbformat": 4,
 "nbformat_minor": 2
}
