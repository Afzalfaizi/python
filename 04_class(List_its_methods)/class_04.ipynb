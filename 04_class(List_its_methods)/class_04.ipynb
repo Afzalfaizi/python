{
 "cells": [
  {
   "cell_type": "code",
   "execution_count": 8,
   "metadata": {},
   "outputs": [
    {
     "name": "stdout",
     "output_type": "stream",
     "text": [
      "qasim\n",
      "qasim\n",
      "sir zia\n"
     ]
    }
   ],
   "source": [
    "name = [\"qasim\",\"sir zia\",\"sir inam\"]\n",
    "print(name[0])\n",
    "print(name[-3])\n",
    "print(name[-2])"
   ]
  },
  {
   "cell_type": "code",
   "execution_count": 9,
   "metadata": {},
   "outputs": [
    {
     "name": "stdout",
     "output_type": "stream",
     "text": [
      "Qasim\n",
      "FARMAN\n",
      "True\n",
      "FOUNDER OF PIAIC SIR ZIA \n",
      "<class 'list'>\n",
      "<class 'bool'>\n",
      "<class 'int'>\n"
     ]
    }
   ],
   "source": [
    "from typing import Any\n",
    "names : list[Any] = [\"qasim\",\"ali\",\"Sir Zia \",\"farman\",25,True]\n",
    "print(names[0].title())\n",
    "print(names[-3].upper())\n",
    "print(names[-1])\n",
    "print(f'FOUNDER OF PIAIC {names[-4].upper()}')\n",
    "print(type(names))\n",
    "print(type(names[-1]))\n",
    "print(type(names[-2]))"
   ]
  },
  {
   "cell_type": "markdown",
   "metadata": {},
   "source": [
    "# Slicing\n",
    "* start : int = include\n",
    "* end : int = n-1\n",
    "* step : int = sequance"
   ]
  },
  {
   "cell_type": "code",
   "execution_count": 10,
   "metadata": {},
   "outputs": [
    {
     "name": "stdout",
     "output_type": "stream",
     "text": [
      "['a', 'b', 'c', 'd', 'f', 'g', 'h', 'i', 'j', 'k', 'l', 'm', 'n', 'o', 'p', 'q', 'r', 's', 't', 'u', 'v', 'w', 'x', 'y', 'z']\n"
     ]
    }
   ],
   "source": [
    "characters : list[str] = list(\"abcdfghijklmnopqrstuvwxyz\")\n",
    "print(characters)"
   ]
  },
  {
   "cell_type": "code",
   "execution_count": 12,
   "metadata": {},
   "outputs": [
    {
     "name": "stdout",
     "output_type": "stream",
     "text": [
      "['a', 'b', 'c']\n"
     ]
    }
   ],
   "source": [
    "characters : list[str] = ['a', 'b', 'c', 'd', 'e' 'f', 'g', 'h', 'i', 'j', 'k', 'l', 'm', 'n', 'o', 'p', 'q', 'r', 's', 't', 'u', 'v', 'w', 'x', 'y', 'z']\n",
    "print(characters[0:3])"
   ]
  },
  {
   "cell_type": "code",
   "execution_count": 13,
   "metadata": {},
   "outputs": [
    {
     "name": "stdout",
     "output_type": "stream",
     "text": [
      "['qasim', 'ali', 'Sir Zia ', 'farman', 25, True]\n",
      "True\n"
     ]
    }
   ],
   "source": [
    "names : list[Any] = [\"qasim\",\"ali\",\"Sir Zia \",\"farman\",25,True]\n",
    "print(names)\n",
    "\n",
    "a : str = names.pop()\n",
    "print(a)"
   ]
  },
  {
   "cell_type": "code",
   "execution_count": 19,
   "metadata": {},
   "outputs": [
    {
     "name": "stdout",
     "output_type": "stream",
     "text": [
      "['qasim', 'ali', 'Sir Zia ', 'farman', 25, True]\n",
      "Sir Zia \n",
      "['qasim', 'ali', 'farman', 25, True]\n"
     ]
    }
   ],
   "source": [
    "names : list[Any] = [\"qasim\",\"ali\",\"Sir Zia \",\"farman\",25,True]\n",
    "print(names)\n",
    "\n",
    "a : str = names.pop(2)\n",
    "print(a)\n",
    "print(names)"
   ]
  },
  {
   "cell_type": "markdown",
   "metadata": {},
   "source": [
    "# append method add element in last"
   ]
  },
  {
   "cell_type": "code",
   "execution_count": 23,
   "metadata": {},
   "outputs": [
    {
     "name": "stdout",
     "output_type": "stream",
     "text": [
      "['sir zia', 'sir inam', 'sir qasim']\n"
     ]
    }
   ],
   "source": [
    "names :list[str] = []\n",
    "names.append(\"sir zia\")\n",
    "names.append(\"sir inam\")\n",
    "names.append(\"sir qasim\")\n",
    "print(names)"
   ]
  },
  {
   "cell_type": "code",
   "execution_count": 24,
   "metadata": {},
   "outputs": [
    {
     "name": "stdout",
     "output_type": "stream",
     "text": [
      "['a', 'b', 'c', 'd']\n",
      "['a', 'afzal sarwari', 'b', 'c', 'd']\n"
     ]
    }
   ],
   "source": [
    "names : list[str] = ['a','b','c','d']\n",
    "print(names)\n",
    "names.insert(1, \"afzal sarwari\")\n",
    "print(names)"
   ]
  },
  {
   "cell_type": "code",
   "execution_count": null,
   "metadata": {},
   "outputs": [],
   "source": []
  }
 ],
 "metadata": {
  "kernelspec": {
   "display_name": "python12",
   "language": "python",
   "name": "python3"
  },
  "language_info": {
   "codemirror_mode": {
    "name": "ipython",
    "version": 3
   },
   "file_extension": ".py",
   "mimetype": "text/x-python",
   "name": "python",
   "nbconvert_exporter": "python",
   "pygments_lexer": "ipython3",
   "version": "3.12.0"
  }
 },
 "nbformat": 4,
 "nbformat_minor": 2
}
