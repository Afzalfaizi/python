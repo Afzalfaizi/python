{
 "cells": [
  {
   "cell_type": "markdown",
   "id": "7be7a7b5",
   "metadata": {},
   "source": [
    "# list\n",
    "* iteration operation with loop\n",
    "* apply any operation on element"
   ]
  },
  {
   "cell_type": "code",
   "execution_count": 3,
   "id": "2873c989",
   "metadata": {},
   "outputs": [
    {
     "name": "stdout",
     "output_type": "stream",
     "text": [
      "['sir Zia', 'Muhammad Qasim', 'dr noman']\n"
     ]
    }
   ],
   "source": [
    "names : list[str] = ['sir Zia', 'Muhammad Qasim', 'dr noman']\n",
    "print(names)"
   ]
  },
  {
   "cell_type": "code",
   "execution_count": 4,
   "id": "c6516823",
   "metadata": {},
   "outputs": [
    {
     "name": "stdout",
     "output_type": "stream",
     "text": [
      "sir Zia\n",
      "Muhammad Qasim\n",
      "dr noman\n"
     ]
    }
   ],
   "source": [
    "names : list[str] = ['sir Zia', \"Muhammad Qasim\", \"dr noman\"]\n",
    "for name in names:\n",
    "    print(name)\n"
   ]
  },
  {
   "cell_type": "code",
   "execution_count": 3,
   "id": "db9ba835",
   "metadata": {},
   "outputs": [
    {
     "name": "stdout",
     "output_type": "stream",
     "text": [
      "welcome dear teacher SIR ZIA\n",
      "PIAIC Gen AI team\n",
      "\n",
      "welcome dear teacher MUHAMMAD QASIM\n",
      "PIAIC Gen AI team\n",
      "\n",
      "welcome dear teacher DR NOMAN\n",
      "PIAIC Gen AI team\n",
      "\n"
     ]
    }
   ],
   "source": [
    "names : list[str] = ['sir Zia', \"Muhammad Qasim\", \"dr noman\"]\n",
    "\n",
    "for name in names:\n",
    "    print(f'welcome dear teacher {name.upper()}')\n",
    "    print(\"PIAIC Gen AI team\\n\")\n",
    "    "
   ]
  },
  {
   "cell_type": "code",
   "execution_count": 8,
   "id": "686adf20",
   "metadata": {},
   "outputs": [
    {
     "name": "stdout",
     "output_type": "stream",
     "text": [
      "qasim 1234\n",
      "sir zia 12345\n"
     ]
    }
   ],
   "source": [
    "\n",
    "data_base : list[tuple[str, str]] = [(\"qasim\",'1234'),\n",
    "                                     (\"sir zia\", '12345'),\n",
    "                                    ]\n",
    "for row in data_base:\n",
    "    user, password = row\n",
    "    print(user, password)\n",
    "\n"
   ]
  },
  {
   "cell_type": "code",
   "execution_count": 2,
   "id": "c1e5ea5c",
   "metadata": {},
   "outputs": [
    {
     "name": "stdout",
     "output_type": "stream",
     "text": [
      "Audi\n",
      "BMW\n",
      "Subaru\n",
      "Toyota\n"
     ]
    }
   ],
   "source": [
    "cars :list[str] = ['audi', 'bmw', 'subaru', 'toyota']\n",
    "for car in cars:\n",
    " if car == 'bmw':\n",
    "    print(car.upper())\n",
    " else:\n",
    "    print(car.title())"
   ]
  },
  {
   "cell_type": "code",
   "execution_count": 6,
   "id": "f60419b9",
   "metadata": {},
   "outputs": [
    {
     "name": "stdout",
     "output_type": "stream",
     "text": [
      "sent OTP  on your registered number\n",
      "welcome to PIAIC\n"
     ]
    }
   ],
   "source": [
    "user_name : str = input(\"Enter your User Name\\t :\")\n",
    "user_password : str = input(\"Enter password\\t :\")\n",
    "\n",
    "if user_name == 'admin' and user_password == 'admin' :\n",
    "    print(\"sent OTP  on your registered number\")\n",
    "    OTP : str = input(\"Please enter your OTP\")\n",
    "    if OTP == '123':\n",
    "        print(\"welcome to PIAIC\")\n",
    "else:\n",
    "    print(\"Invaild username or password\")"
   ]
  }
 ],
 "metadata": {
  "kernelspec": {
   "display_name": "Python 3 (ipykernel)",
   "language": "python",
   "name": "python3"
  },
  "language_info": {
   "codemirror_mode": {
    "name": "ipython",
    "version": 3
   },
   "file_extension": ".py",
   "mimetype": "text/x-python",
   "name": "python",
   "nbconvert_exporter": "python",
   "pygments_lexer": "ipython3",
   "version": "3.12.0"
  }
 },
 "nbformat": 4,
 "nbformat_minor": 5
}
